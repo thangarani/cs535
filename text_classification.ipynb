{
 "cells": [
  {
   "cell_type": "code",
   "execution_count": 35,
   "metadata": {},
   "outputs": [
    {
     "name": "stdout",
     "output_type": "stream",
     "text": [
      "{   'Christopher Marlowe': {   'NoOfBooks': 3,\n",
      "                               'Words': {   'W1': {'ct': 4},\n",
      "                                            'W2': {'ct': 2},\n",
      "                                            'W3': {'ct': 2},\n",
      "                                            'W4': {'ct': 2},\n",
      "                                            'W5': {'ct': 2}}},\n",
      "    'Francis Bacon': {   'NoOfBooks': 2,\n",
      "                         'Words': {   'W2': {'ct': 2},\n",
      "                                      'W3': {'ct': 2},\n",
      "                                      'W4': {'ct': 2},\n",
      "                                      'W5': {'ct': 2},\n",
      "                                      'W6': {'ct': 1}}},\n",
      "    'William Stanley': {   'NoOfBooks': 2,\n",
      "                           'Words': {   'W1': {'ct': 1},\n",
      "                                        'W2': {'ct': 1},\n",
      "                                        'W3': {'ct': 1},\n",
      "                                        'W4': {'ct': 1},\n",
      "                                        'W5': {'ct': 2},\n",
      "                                        'W6': {'ct': 2}}}}\n"
     ]
    }
   ],
   "source": [
    "import string\n",
    "import re\n",
    "import pprint\n",
    "\n",
    "pp = pprint.PrettyPrinter(indent=4)\n",
    "Dict = {}\n",
    "\n",
    "f = open(\"text_classification_data\", \"r\")\n",
    "\n",
    "for x in f:\n",
    "    line = x.split('\"')[1::]\n",
    "    author = line[0]\n",
    "    line[1] = line[1].strip()\n",
    "    words = line[1].split(' ')\n",
    "    \n",
    "    if Dict.get(author) is None:\n",
    "        Dict[author] = {}\n",
    "        Dict[author]['NoOfBooks'] = 0\n",
    "        Dict[author]['Words'] = {}\n",
    "    \n",
    "    Dict[author]['NoOfBooks'] = Dict[author]['NoOfBooks'] + 1\n",
    "    \n",
    "    for w in words:\n",
    "        if Dict[author]['Words'].get(w) is None:\n",
    "            Dict[author]['Words'][w] = {}\n",
    "            Dict[author]['Words'][w]['ct'] = 0\n",
    "            \n",
    "        Dict[author]['Words'][w]['ct'] = Dict[author]['Words'][w]['ct'] + 1\n",
    "\n",
    "pp.pprint(Dict)\n",
    "\n",
    "f.close()"
   ]
  },
  {
   "cell_type": "code",
   "execution_count": 36,
   "metadata": {},
   "outputs": [],
   "source": [
    "newBookWords = set()\n",
    "\n",
    "f = open(\"NewBook\", \"r\")\n",
    "\n",
    "for x in f:\n",
    "    words = x.split(' ')\n",
    "    for w in words:\n",
    "        newBookWords.add(w)\n",
    "        \n",
    "f.close()"
   ]
  },
  {
   "cell_type": "code",
   "execution_count": 37,
   "metadata": {},
   "outputs": [
    {
     "name": "stdout",
     "output_type": "stream",
     "text": [
      "{   'Christopher Marlowe': {   'NoOfBooks': 3,\n",
      "                               'NoOfWords': 12,\n",
      "                               'Words': {   'W1': {'ct': 4},\n",
      "                                            'W2': {'ct': 2},\n",
      "                                            'W3': {'ct': 2},\n",
      "                                            'W4': {'ct': 2},\n",
      "                                            'W5': {'ct': 2},\n",
      "                                            'W6': {'ct': 0}}},\n",
      "    'Francis Bacon': {   'NoOfBooks': 2,\n",
      "                         'NoOfWords': 9,\n",
      "                         'Words': {   'W1': {'ct': 0},\n",
      "                                      'W2': {'ct': 2},\n",
      "                                      'W3': {'ct': 2},\n",
      "                                      'W4': {'ct': 2},\n",
      "                                      'W5': {'ct': 2},\n",
      "                                      'W6': {'ct': 1}}},\n",
      "    'William Stanley': {   'NoOfBooks': 2,\n",
      "                           'NoOfWords': 8,\n",
      "                           'Words': {   'W1': {'ct': 1},\n",
      "                                        'W2': {'ct': 1},\n",
      "                                        'W3': {'ct': 1},\n",
      "                                        'W4': {'ct': 1},\n",
      "                                        'W5': {'ct': 2},\n",
      "                                        'W6': {'ct': 2}}}}\n"
     ]
    }
   ],
   "source": [
    "vector = set()\n",
    "totalBooks = 0\n",
    "\n",
    "for author, book in Dict.items():\n",
    "    totalBooks += Dict[author]['NoOfBooks']\n",
    "    for w in book['Words']:\n",
    "        vector.add(w)\n",
    "\n",
    "vectorCount = len(vector)\n",
    "\n",
    "for author, book in Dict.items():\n",
    "    for w in vector:\n",
    "        if book['Words'].get(w) is None:\n",
    "            book['Words'][w] = {}\n",
    "            book['Words'][w]['ct'] = 0\n",
    "            \n",
    "for author, book in Dict.items():\n",
    "    wordCount = 0\n",
    "    for word, wordInfo in book['Words'].items():\n",
    "        wordCount += wordInfo['ct']\n",
    "    Dict[author]['NoOfWords'] = wordCount\n",
    "            \n",
    "pp.pprint(Dict)"
   ]
  },
  {
   "cell_type": "code",
   "execution_count": 38,
   "metadata": {},
   "outputs": [],
   "source": [
    "def probability(vectorCount, wordCount, totalCount):\n",
    "    return (wordCount + 1)/(totalCount + vectorCount)\n",
    "\n",
    "def newBookprobability(totalBooks, newBookWords, authorBooksInfo):\n",
    "    p = authorBooksInfo['NoOfBooks']/totalBooks\n",
    "    \n",
    "    for w in newBookWords:\n",
    "        p = p * authorBooksInfo['Words'][w]['probability']\n",
    "    \n",
    "    return p\n"
   ]
  },
  {
   "cell_type": "code",
   "execution_count": 39,
   "metadata": {},
   "outputs": [
    {
     "name": "stdout",
     "output_type": "stream",
     "text": [
      "{   'Christopher Marlowe': {   'NoOfBooks': 3,\n",
      "                               'NoOfWords': 12,\n",
      "                               'Words': {   'W1': {   'ct': 4,\n",
      "                                                      'probability': 0.2777777777777778},\n",
      "                                            'W2': {   'ct': 2,\n",
      "                                                      'probability': 0.16666666666666666},\n",
      "                                            'W3': {   'ct': 2,\n",
      "                                                      'probability': 0.16666666666666666},\n",
      "                                            'W4': {   'ct': 2,\n",
      "                                                      'probability': 0.16666666666666666},\n",
      "                                            'W5': {   'ct': 2,\n",
      "                                                      'probability': 0.16666666666666666},\n",
      "                                            'W6': {   'ct': 0,\n",
      "                                                      'probability': 0.05555555555555555}}},\n",
      "    'Francis Bacon': {   'NoOfBooks': 2,\n",
      "                         'NoOfWords': 9,\n",
      "                         'Words': {   'W1': {   'ct': 0,\n",
      "                                                'probability': 0.06666666666666667},\n",
      "                                      'W2': {'ct': 2, 'probability': 0.2},\n",
      "                                      'W3': {'ct': 2, 'probability': 0.2},\n",
      "                                      'W4': {'ct': 2, 'probability': 0.2},\n",
      "                                      'W5': {'ct': 2, 'probability': 0.2},\n",
      "                                      'W6': {   'ct': 1,\n",
      "                                                'probability': 0.13333333333333333}}},\n",
      "    'William Stanley': {   'NoOfBooks': 2,\n",
      "                           'NoOfWords': 8,\n",
      "                           'Words': {   'W1': {   'ct': 1,\n",
      "                                                  'probability': 0.14285714285714285},\n",
      "                                        'W2': {   'ct': 1,\n",
      "                                                  'probability': 0.14285714285714285},\n",
      "                                        'W3': {   'ct': 1,\n",
      "                                                  'probability': 0.14285714285714285},\n",
      "                                        'W4': {   'ct': 1,\n",
      "                                                  'probability': 0.14285714285714285},\n",
      "                                        'W5': {   'ct': 2,\n",
      "                                                  'probability': 0.21428571428571427},\n",
      "                                        'W6': {   'ct': 2,\n",
      "                                                  'probability': 0.21428571428571427}}}}\n"
     ]
    }
   ],
   "source": [
    "for author, book in Dict.items():\n",
    "    for word, wordInfo in book['Words'].items():\n",
    "        book['Words'][word]['probability'] = probability(vectorCount, wordInfo['ct'], Dict[author]['NoOfWords'])\n",
    "\n",
    "pp.pprint(Dict)"
   ]
  },
  {
   "cell_type": "code",
   "execution_count": 42,
   "metadata": {},
   "outputs": [
    {
     "name": "stdout",
     "output_type": "stream",
     "text": [
      "The document belongs to:\n",
      "[3.824936888541338e-05, 'William Stanley']\n"
     ]
    }
   ],
   "source": [
    "newAuthor = [0.0, '']\n",
    "\n",
    "for author, book in Dict.items():\n",
    "    p = newBookprobability(totalBooks, newBookWords, book)\n",
    "    if (p > newAuthor[0]):\n",
    "        newAuthor = [p, author]\n",
    "        \n",
    "print(\"The document belongs to:\")        \n",
    "print (newAuthor) "
   ]
  }
 ],
 "metadata": {
  "kernelspec": {
   "display_name": "Python 3",
   "language": "python",
   "name": "python3"
  },
  "language_info": {
   "codemirror_mode": {
    "name": "ipython",
    "version": 3
   },
   "file_extension": ".py",
   "mimetype": "text/x-python",
   "name": "python",
   "nbconvert_exporter": "python",
   "pygments_lexer": "ipython3",
   "version": "3.6.10"
  }
 },
 "nbformat": 4,
 "nbformat_minor": 4
}
